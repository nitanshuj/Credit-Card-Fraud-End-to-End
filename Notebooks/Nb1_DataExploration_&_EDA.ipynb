{
 "cells": [
  {
   "attachments": {},
   "cell_type": "markdown",
   "metadata": {},
   "source": [
    "--------------\n",
    "# <div style=\"text-align: center;\"> **Data Exploration and EDA** </div>\n",
    "--------------"
   ]
  },
  {
   "cell_type": "code",
   "execution_count": 15,
   "metadata": {},
   "outputs": [],
   "source": [
    "import pandas as pd, numpy as np, matplotlib.pyplot as plt, seaborn as sns\n",
    "import sklearn\n",
    "import datetime\n",
    "from datetime import datetime\n",
    "pd.set_option('display.max_columns', None)\n",
    "import warnings; warnings.filterwarnings('ignore')\n",
    "from src.utils import show_null_percentage, softcapping"
   ]
  },
  {
   "cell_type": "code",
   "execution_count": 2,
   "metadata": {},
   "outputs": [],
   "source": []
  },
  {
   "cell_type": "code",
   "execution_count": 3,
   "metadata": {},
   "outputs": [],
   "source": []
  },
  {
   "attachments": {},
   "cell_type": "markdown",
   "metadata": {},
   "source": [
    "## **Step 1 - Reading the Data**\n",
    "\n",
    "----------------"
   ]
  },
  {
   "cell_type": "code",
   "execution_count": 17,
   "metadata": {},
   "outputs": [
    {
     "data": {
      "text/html": [
       "<div>\n",
       "<style scoped>\n",
       "    .dataframe tbody tr th:only-of-type {\n",
       "        vertical-align: middle;\n",
       "    }\n",
       "\n",
       "    .dataframe tbody tr th {\n",
       "        vertical-align: top;\n",
       "    }\n",
       "\n",
       "    .dataframe thead th {\n",
       "        text-align: right;\n",
       "    }\n",
       "</style>\n",
       "<table border=\"1\" class=\"dataframe\">\n",
       "  <thead>\n",
       "    <tr style=\"text-align: right;\">\n",
       "      <th></th>\n",
       "      <th>trans_date_trans_time</th>\n",
       "      <th>cc_num</th>\n",
       "      <th>merchant</th>\n",
       "      <th>category</th>\n",
       "      <th>amt</th>\n",
       "      <th>first</th>\n",
       "      <th>last</th>\n",
       "      <th>gender</th>\n",
       "      <th>street</th>\n",
       "      <th>city</th>\n",
       "      <th>state</th>\n",
       "      <th>zip</th>\n",
       "      <th>lat</th>\n",
       "      <th>long</th>\n",
       "      <th>city_pop</th>\n",
       "      <th>job</th>\n",
       "      <th>dob</th>\n",
       "      <th>trans_num</th>\n",
       "      <th>unix_time</th>\n",
       "      <th>merch_lat</th>\n",
       "      <th>merch_long</th>\n",
       "      <th>is_fraud</th>\n",
       "    </tr>\n",
       "  </thead>\n",
       "  <tbody>\n",
       "    <tr>\n",
       "      <th>0</th>\n",
       "      <td>2019-01-01 00:00:18</td>\n",
       "      <td>2703186189652095</td>\n",
       "      <td>fraud_Rippin, Kub and Mann</td>\n",
       "      <td>misc_net</td>\n",
       "      <td>4.97</td>\n",
       "      <td>Jennifer</td>\n",
       "      <td>Banks</td>\n",
       "      <td>F</td>\n",
       "      <td>561 Perry Cove</td>\n",
       "      <td>Moravian Falls</td>\n",
       "      <td>NC</td>\n",
       "      <td>28654</td>\n",
       "      <td>36.0788</td>\n",
       "      <td>-81.1781</td>\n",
       "      <td>3495</td>\n",
       "      <td>Psychologist, counselling</td>\n",
       "      <td>1988-03-09</td>\n",
       "      <td>0b242abb623afc578575680df30655b9</td>\n",
       "      <td>1325376018</td>\n",
       "      <td>36.011293</td>\n",
       "      <td>-82.048315</td>\n",
       "      <td>0</td>\n",
       "    </tr>\n",
       "    <tr>\n",
       "      <th>1</th>\n",
       "      <td>2019-01-01 00:00:44</td>\n",
       "      <td>630423337322</td>\n",
       "      <td>fraud_Heller, Gutmann and Zieme</td>\n",
       "      <td>grocery_pos</td>\n",
       "      <td>107.23</td>\n",
       "      <td>Stephanie</td>\n",
       "      <td>Gill</td>\n",
       "      <td>F</td>\n",
       "      <td>43039 Riley Greens Suite 393</td>\n",
       "      <td>Orient</td>\n",
       "      <td>WA</td>\n",
       "      <td>99160</td>\n",
       "      <td>48.8878</td>\n",
       "      <td>-118.2105</td>\n",
       "      <td>149</td>\n",
       "      <td>Special educational needs teacher</td>\n",
       "      <td>1978-06-21</td>\n",
       "      <td>1f76529f8574734946361c461b024d99</td>\n",
       "      <td>1325376044</td>\n",
       "      <td>49.159047</td>\n",
       "      <td>-118.186462</td>\n",
       "      <td>0</td>\n",
       "    </tr>\n",
       "  </tbody>\n",
       "</table>\n",
       "</div>"
      ],
      "text/plain": [
       "  trans_date_trans_time            cc_num                         merchant  \\\n",
       "0   2019-01-01 00:00:18  2703186189652095       fraud_Rippin, Kub and Mann   \n",
       "1   2019-01-01 00:00:44      630423337322  fraud_Heller, Gutmann and Zieme   \n",
       "\n",
       "      category     amt      first   last gender                        street  \\\n",
       "0     misc_net    4.97   Jennifer  Banks      F                561 Perry Cove   \n",
       "1  grocery_pos  107.23  Stephanie   Gill      F  43039 Riley Greens Suite 393   \n",
       "\n",
       "             city state    zip      lat      long  city_pop  \\\n",
       "0  Moravian Falls    NC  28654  36.0788  -81.1781      3495   \n",
       "1          Orient    WA  99160  48.8878 -118.2105       149   \n",
       "\n",
       "                                 job         dob  \\\n",
       "0          Psychologist, counselling  1988-03-09   \n",
       "1  Special educational needs teacher  1978-06-21   \n",
       "\n",
       "                          trans_num   unix_time  merch_lat  merch_long  \\\n",
       "0  0b242abb623afc578575680df30655b9  1325376018  36.011293  -82.048315   \n",
       "1  1f76529f8574734946361c461b024d99  1325376044  49.159047 -118.186462   \n",
       "\n",
       "   is_fraud  \n",
       "0         0  \n",
       "1         0  "
      ]
     },
     "execution_count": 17,
     "metadata": {},
     "output_type": "execute_result"
    }
   ],
   "source": [
    "\n",
    "data_path = r\"G:\\\\My Drive\\\\Study\\\\Project - Credit Card Fraud Detection\\\\Data\\\\fraudTrain.csv\"\n",
    "df = pd.read_csv(data_path, index_col=0)\n",
    "df.head(2)"
   ]
  },
  {
   "cell_type": "code",
   "execution_count": 18,
   "metadata": {},
   "outputs": [
    {
     "name": "stdout",
     "output_type": "stream",
     "text": [
      "Shape of the Data:  (1296675, 22)\n",
      "\n",
      "Checking unique values of cardholders and transactions\n",
      "\n",
      "Unique cardholders     :  1296675\n",
      "Unique Transaction IDs :  983\n"
     ]
    }
   ],
   "source": [
    "# Checking for a Unique ID\n",
    "# ------------------------\n",
    "print(\"Shape of the Data: \",df.shape)\n",
    "print(\"\\nChecking unique values of cardholders and transactions\\n\")\n",
    "print(\"Unique cardholders     : \",df['trans_num'].nunique())\n",
    "print(\"Unique Transaction IDs : \",df['cc_num'].nunique())\n",
    "\n",
    "# The transaction number is a unique key to identify the rows."
   ]
  },
  {
   "attachments": {},
   "cell_type": "markdown",
   "metadata": {},
   "source": [
    "Looking at the data, we can observe that there are around a 1000 cardholders with over 1.15 Million transactions."
   ]
  },
  {
   "attachments": {},
   "cell_type": "markdown",
   "metadata": {},
   "source": [
    "## **Step 2: Data Inspection and Basic Data Cleaning**\n",
    "----------------------------\n",
    "\n",
    "1. Looking at the basic data types\n",
    "\n",
    "2. Checking for Missing/Null Values\n",
    "\n",
    "3. Checking for Duplicates\n",
    "\n",
    "\n",
    "\n",
    "5. Check the number of unique values of each column\n",
    "6. Check statistics of data set\n",
    "7. Check various categories present in the different categorical column"
   ]
  },
  {
   "attachments": {},
   "cell_type": "markdown",
   "metadata": {},
   "source": [
    "### 2.1) Looking at the data types"
   ]
  },
  {
   "cell_type": "code",
   "execution_count": 19,
   "metadata": {},
   "outputs": [
    {
     "name": "stdout",
     "output_type": "stream",
     "text": [
      "<class 'pandas.core.frame.DataFrame'>\n",
      "Index: 1296675 entries, 0 to 1296674\n",
      "Data columns (total 22 columns):\n",
      " #   Column                 Non-Null Count    Dtype  \n",
      "---  ------                 --------------    -----  \n",
      " 0   trans_date_trans_time  1296675 non-null  object \n",
      " 1   cc_num                 1296675 non-null  int64  \n",
      " 2   merchant               1296675 non-null  object \n",
      " 3   category               1296675 non-null  object \n",
      " 4   amt                    1296675 non-null  float64\n",
      " 5   first                  1296675 non-null  object \n",
      " 6   last                   1296675 non-null  object \n",
      " 7   gender                 1296675 non-null  object \n",
      " 8   street                 1296675 non-null  object \n",
      " 9   city                   1296675 non-null  object \n",
      " 10  state                  1296675 non-null  object \n",
      " 11  zip                    1296675 non-null  int64  \n",
      " 12  lat                    1296675 non-null  float64\n",
      " 13  long                   1296675 non-null  float64\n",
      " 14  city_pop               1296675 non-null  int64  \n",
      " 15  job                    1296675 non-null  object \n",
      " 16  dob                    1296675 non-null  object \n",
      " 17  trans_num              1296675 non-null  object \n",
      " 18  unix_time              1296675 non-null  int64  \n",
      " 19  merch_lat              1296675 non-null  float64\n",
      " 20  merch_long             1296675 non-null  float64\n",
      " 21  is_fraud               1296675 non-null  int64  \n",
      "dtypes: float64(5), int64(5), object(12)\n",
      "memory usage: 227.5+ MB\n"
     ]
    }
   ],
   "source": [
    "# Checking Data Types\n",
    "# -------------------\n",
    "df.info()"
   ]
  },
  {
   "attachments": {},
   "cell_type": "markdown",
   "metadata": {},
   "source": [
    "We can see a lot of `string` values, and even the \"transaction data and time\", and \"DOB\" column is object. \n",
    "\n",
    "We also see some `int` and `float` values.\n",
    "\n",
    "**Issue**<br>\n",
    "- The \"transaction data and time\" column is also not in the desired format, so we will convert it into \"datetime\" format.\n",
    "- We would also have to do the same for the \"DOB\" column\n",
    "\n",
    "\n",
    "***There doesn't seem to be any NULL values present in the data, but we will explore this later***\n",
    "\n",
    "-----------------"
   ]
  },
  {
   "cell_type": "code",
   "execution_count": 22,
   "metadata": {},
   "outputs": [
    {
     "name": "stdout",
     "output_type": "stream",
     "text": [
      "Type of trans_date_trans_time:  datetime64[ns]\n",
      "Type of dob                  :  datetime64[ns]\n"
     ]
    }
   ],
   "source": [
    "df[\"trans_date_trans_time\"] = pd.to_datetime(df[\"trans_date_trans_time\"], format='ISO8601')\n",
    "df[\"dob\"] = pd.to_datetime(df[\"dob\"], format='ISO8601')\n",
    "print(\"Type of trans_date_trans_time: \", df['trans_date_trans_time'].dtype)\n",
    "print(\"Type of dob                  : \", df['trans_date_trans_time'].dtype)"
   ]
  },
  {
   "cell_type": "code",
   "execution_count": 7,
   "metadata": {},
   "outputs": [],
   "source": [
    "# We successfully converted \"trans_date_trans_time\" to datetime."
   ]
  },
  {
   "attachments": {},
   "cell_type": "markdown",
   "metadata": {},
   "source": [
    "### 2.2) Checking the NULL values"
   ]
  },
  {
   "cell_type": "code",
   "execution_count": 8,
   "metadata": {},
   "outputs": [
    {
     "data": {
      "text/html": [
       "<div>\n",
       "<style scoped>\n",
       "    .dataframe tbody tr th:only-of-type {\n",
       "        vertical-align: middle;\n",
       "    }\n",
       "\n",
       "    .dataframe tbody tr th {\n",
       "        vertical-align: top;\n",
       "    }\n",
       "\n",
       "    .dataframe thead th {\n",
       "        text-align: right;\n",
       "    }\n",
       "</style>\n",
       "<table border=\"1\" class=\"dataframe\">\n",
       "  <thead>\n",
       "    <tr style=\"text-align: right;\">\n",
       "      <th></th>\n",
       "      <th>number_of_missing_values</th>\n",
       "      <th>percent_missing</th>\n",
       "    </tr>\n",
       "  </thead>\n",
       "  <tbody>\n",
       "  </tbody>\n",
       "</table>\n",
       "</div>"
      ],
      "text/plain": [
       "Empty DataFrame\n",
       "Columns: [number_of_missing_values, percent_missing]\n",
       "Index: []"
      ]
     },
     "execution_count": 8,
     "metadata": {},
     "output_type": "execute_result"
    }
   ],
   "source": [
    "# Further exploring the dataset for NULL values.\n",
    "show_null_percentage(df)"
   ]
  },
  {
   "cell_type": "code",
   "execution_count": 9,
   "metadata": {},
   "outputs": [],
   "source": [
    "# There are no null values in this dataframe."
   ]
  },
  {
   "attachments": {},
   "cell_type": "markdown",
   "metadata": {},
   "source": [
    "### 2.3) Checking for duplicates"
   ]
  },
  {
   "cell_type": "code",
   "execution_count": 10,
   "metadata": {},
   "outputs": [
    {
     "data": {
      "text/plain": [
       "0"
      ]
     },
     "execution_count": 10,
     "metadata": {},
     "output_type": "execute_result"
    }
   ],
   "source": [
    "df.duplicated().sum()"
   ]
  },
  {
   "cell_type": "code",
   "execution_count": 11,
   "metadata": {},
   "outputs": [],
   "source": [
    "# There are no duplicate values in this dataframe."
   ]
  },
  {
   "attachments": {},
   "cell_type": "markdown",
   "metadata": {},
   "source": [
    "### 2.4) Checking the Target Variable (\"is_fraud\")"
   ]
  },
  {
   "cell_type": "code",
   "execution_count": 12,
   "metadata": {},
   "outputs": [
    {
     "data": {
      "text/plain": [
       "is_fraud\n",
       "0    1289169\n",
       "1       7506\n",
       "Name: count, dtype: int64"
      ]
     },
     "execution_count": 12,
     "metadata": {},
     "output_type": "execute_result"
    }
   ],
   "source": [
    "df['is_fraud'].value_counts()"
   ]
  },
  {
   "cell_type": "code",
   "execution_count": 15,
   "metadata": {},
   "outputs": [],
   "source": [
    "# It can be seen that the target variable is highly imbalanced.\n",
    "# So we will have to take care of the imbalance before modelling."
   ]
  },
  {
   "attachments": {},
   "cell_type": "markdown",
   "metadata": {},
   "source": [
    "### 2.5) Inspecting the Numerical Columns & Categorical Columns"
   ]
  },
  {
   "cell_type": "code",
   "execution_count": 16,
   "metadata": {},
   "outputs": [
    {
     "data": {
      "text/html": [
       "<div>\n",
       "<style scoped>\n",
       "    .dataframe tbody tr th:only-of-type {\n",
       "        vertical-align: middle;\n",
       "    }\n",
       "\n",
       "    .dataframe tbody tr th {\n",
       "        vertical-align: top;\n",
       "    }\n",
       "\n",
       "    .dataframe thead th {\n",
       "        text-align: right;\n",
       "    }\n",
       "</style>\n",
       "<table border=\"1\" class=\"dataframe\">\n",
       "  <thead>\n",
       "    <tr style=\"text-align: right;\">\n",
       "      <th></th>\n",
       "      <th>trans_date_trans_time</th>\n",
       "      <th>cc_num</th>\n",
       "      <th>amt</th>\n",
       "      <th>zip</th>\n",
       "      <th>lat</th>\n",
       "      <th>long</th>\n",
       "      <th>city_pop</th>\n",
       "      <th>dob</th>\n",
       "      <th>unix_time</th>\n",
       "      <th>merch_lat</th>\n",
       "      <th>merch_long</th>\n",
       "      <th>is_fraud</th>\n",
       "    </tr>\n",
       "  </thead>\n",
       "  <tbody>\n",
       "    <tr>\n",
       "      <th>count</th>\n",
       "      <td>1296675</td>\n",
       "      <td>1.296675e+06</td>\n",
       "      <td>1296675.00</td>\n",
       "      <td>1296675.00</td>\n",
       "      <td>1296675.00</td>\n",
       "      <td>1296675.00</td>\n",
       "      <td>1296675.00</td>\n",
       "      <td>1296675</td>\n",
       "      <td>1.296675e+06</td>\n",
       "      <td>1296675.00</td>\n",
       "      <td>1296675.00</td>\n",
       "      <td>1296675.00</td>\n",
       "    </tr>\n",
       "    <tr>\n",
       "      <th>mean</th>\n",
       "      <td>2019-10-03 12:47:28.070214144</td>\n",
       "      <td>4.171920e+17</td>\n",
       "      <td>70.35</td>\n",
       "      <td>48800.67</td>\n",
       "      <td>38.54</td>\n",
       "      <td>-90.23</td>\n",
       "      <td>88824.44</td>\n",
       "      <td>1973-10-03 19:02:55.017178512</td>\n",
       "      <td>1.349244e+09</td>\n",
       "      <td>38.54</td>\n",
       "      <td>-90.23</td>\n",
       "      <td>0.01</td>\n",
       "    </tr>\n",
       "    <tr>\n",
       "      <th>min</th>\n",
       "      <td>2019-01-01 00:00:18</td>\n",
       "      <td>6.041621e+10</td>\n",
       "      <td>1.00</td>\n",
       "      <td>1257.00</td>\n",
       "      <td>20.03</td>\n",
       "      <td>-165.67</td>\n",
       "      <td>23.00</td>\n",
       "      <td>1924-10-30 00:00:00</td>\n",
       "      <td>1.325376e+09</td>\n",
       "      <td>19.03</td>\n",
       "      <td>-166.67</td>\n",
       "      <td>0.00</td>\n",
       "    </tr>\n",
       "    <tr>\n",
       "      <th>25%</th>\n",
       "      <td>2019-06-03 19:12:22.500000</td>\n",
       "      <td>1.800429e+14</td>\n",
       "      <td>9.65</td>\n",
       "      <td>26237.00</td>\n",
       "      <td>34.62</td>\n",
       "      <td>-96.80</td>\n",
       "      <td>743.00</td>\n",
       "      <td>1962-08-13 00:00:00</td>\n",
       "      <td>1.338751e+09</td>\n",
       "      <td>34.73</td>\n",
       "      <td>-96.90</td>\n",
       "      <td>0.00</td>\n",
       "    </tr>\n",
       "    <tr>\n",
       "      <th>50%</th>\n",
       "      <td>2019-10-03 07:35:47</td>\n",
       "      <td>3.521417e+15</td>\n",
       "      <td>47.52</td>\n",
       "      <td>48174.00</td>\n",
       "      <td>39.35</td>\n",
       "      <td>-87.48</td>\n",
       "      <td>2456.00</td>\n",
       "      <td>1975-11-30 00:00:00</td>\n",
       "      <td>1.349250e+09</td>\n",
       "      <td>39.37</td>\n",
       "      <td>-87.44</td>\n",
       "      <td>0.00</td>\n",
       "    </tr>\n",
       "    <tr>\n",
       "      <th>75%</th>\n",
       "      <td>2020-01-28 15:02:55.500000</td>\n",
       "      <td>4.642255e+15</td>\n",
       "      <td>83.14</td>\n",
       "      <td>72042.00</td>\n",
       "      <td>41.94</td>\n",
       "      <td>-80.16</td>\n",
       "      <td>20328.00</td>\n",
       "      <td>1987-02-22 00:00:00</td>\n",
       "      <td>1.359385e+09</td>\n",
       "      <td>41.96</td>\n",
       "      <td>-80.24</td>\n",
       "      <td>0.00</td>\n",
       "    </tr>\n",
       "    <tr>\n",
       "      <th>max</th>\n",
       "      <td>2020-06-21 12:13:37</td>\n",
       "      <td>4.992346e+18</td>\n",
       "      <td>28948.90</td>\n",
       "      <td>99783.00</td>\n",
       "      <td>66.69</td>\n",
       "      <td>-67.95</td>\n",
       "      <td>2906700.00</td>\n",
       "      <td>2005-01-29 00:00:00</td>\n",
       "      <td>1.371817e+09</td>\n",
       "      <td>67.51</td>\n",
       "      <td>-66.95</td>\n",
       "      <td>1.00</td>\n",
       "    </tr>\n",
       "    <tr>\n",
       "      <th>std</th>\n",
       "      <td>NaN</td>\n",
       "      <td>1.308806e+18</td>\n",
       "      <td>160.32</td>\n",
       "      <td>26893.22</td>\n",
       "      <td>5.08</td>\n",
       "      <td>13.76</td>\n",
       "      <td>301956.36</td>\n",
       "      <td>NaN</td>\n",
       "      <td>1.284128e+07</td>\n",
       "      <td>5.11</td>\n",
       "      <td>13.77</td>\n",
       "      <td>0.08</td>\n",
       "    </tr>\n",
       "  </tbody>\n",
       "</table>\n",
       "</div>"
      ],
      "text/plain": [
       "               trans_date_trans_time        cc_num         amt         zip  \\\n",
       "count                        1296675  1.296675e+06  1296675.00  1296675.00   \n",
       "mean   2019-10-03 12:47:28.070214144  4.171920e+17       70.35    48800.67   \n",
       "min              2019-01-01 00:00:18  6.041621e+10        1.00     1257.00   \n",
       "25%       2019-06-03 19:12:22.500000  1.800429e+14        9.65    26237.00   \n",
       "50%              2019-10-03 07:35:47  3.521417e+15       47.52    48174.00   \n",
       "75%       2020-01-28 15:02:55.500000  4.642255e+15       83.14    72042.00   \n",
       "max              2020-06-21 12:13:37  4.992346e+18    28948.90    99783.00   \n",
       "std                              NaN  1.308806e+18      160.32    26893.22   \n",
       "\n",
       "              lat        long    city_pop                            dob  \\\n",
       "count  1296675.00  1296675.00  1296675.00                        1296675   \n",
       "mean        38.54      -90.23    88824.44  1973-10-03 19:02:55.017178512   \n",
       "min         20.03     -165.67       23.00            1924-10-30 00:00:00   \n",
       "25%         34.62      -96.80      743.00            1962-08-13 00:00:00   \n",
       "50%         39.35      -87.48     2456.00            1975-11-30 00:00:00   \n",
       "75%         41.94      -80.16    20328.00            1987-02-22 00:00:00   \n",
       "max         66.69      -67.95  2906700.00            2005-01-29 00:00:00   \n",
       "std          5.08       13.76   301956.36                            NaN   \n",
       "\n",
       "          unix_time   merch_lat  merch_long    is_fraud  \n",
       "count  1.296675e+06  1296675.00  1296675.00  1296675.00  \n",
       "mean   1.349244e+09       38.54      -90.23        0.01  \n",
       "min    1.325376e+09       19.03     -166.67        0.00  \n",
       "25%    1.338751e+09       34.73      -96.90        0.00  \n",
       "50%    1.349250e+09       39.37      -87.44        0.00  \n",
       "75%    1.359385e+09       41.96      -80.24        0.00  \n",
       "max    1.371817e+09       67.51      -66.95        1.00  \n",
       "std    1.284128e+07        5.11       13.77        0.08  "
      ]
     },
     "execution_count": 16,
     "metadata": {},
     "output_type": "execute_result"
    }
   ],
   "source": [
    "# Getting statistical idea of the Numerical Columns\n",
    "df.describe().round(2)"
   ]
  },
  {
   "cell_type": "code",
   "execution_count": 17,
   "metadata": {},
   "outputs": [
    {
     "name": "stdout",
     "output_type": "stream",
     "text": [
      "Number of Unique merchants  :  693\n",
      "Number of unique categories :  14\n",
      "Number of unique states     :  51\n",
      "Number of unique cities     :  894\n",
      "Number of unique job        :  494\n"
     ]
    }
   ],
   "source": [
    "### Inspecting Categorical columns\n",
    "### ------------------------------\n",
    "# Checking unique values for each categorical column\n",
    "print(\"Number of Unique merchants  : \", df['merchant'].nunique())\n",
    "print(\"Number of unique categories : \", df['category'].nunique())\n",
    "print(\"Number of unique states     : \", df['state'].nunique())\n",
    "print(\"Number of unique cities     : \", df['city'].nunique())\n",
    "print(\"Number of unique job        : \", df['job'].nunique())"
   ]
  },
  {
   "cell_type": "code",
   "execution_count": 15,
   "metadata": {},
   "outputs": [
    {
     "name": "stdout",
     "output_type": "stream",
     "text": [
      "We have 12 numerical features : ['trans_date_trans_time', 'cc_num', 'amt', 'zip', 'lat', 'long', 'city_pop', 'dob', 'unix_time', 'merch_lat', 'merch_long', 'is_fraud']\n",
      "\n",
      "We have 10 categorical features : ['merchant', 'category', 'first', 'last', 'gender', 'street', 'city', 'state', 'job', 'trans_num']\n"
     ]
    }
   ],
   "source": [
    "# Separating numerical and categorical features\n",
    "# ---------------------------------------------\n",
    "\n",
    "numeric_features = [feature for feature in df.columns if df[feature].dtype != 'O']\n",
    "categorical_features = [feature for feature in df.columns if df[feature].dtype == 'O']\n",
    "\n",
    "print('We have {} numerical features : {}'.format(len(numeric_features), numeric_features))\n",
    "print('\\nWe have {} categorical features : {}'.format(len(categorical_features), categorical_features))"
   ]
  },
  {
   "cell_type": "code",
   "execution_count": null,
   "metadata": {},
   "outputs": [],
   "source": []
  },
  {
   "cell_type": "code",
   "execution_count": null,
   "metadata": {},
   "outputs": [],
   "source": []
  },
  {
   "attachments": {},
   "cell_type": "markdown",
   "metadata": {},
   "source": [
    "## **Feature Engineering**\n",
    "----------------"
   ]
  },
  {
   "attachments": {},
   "cell_type": "markdown",
   "metadata": {},
   "source": [
    "We can create some new columns/variables using the existing ones.\n",
    "\n",
    "- `Age`: This can be calculated using the Date of birth (dob) column.\n",
    "- `Year_transaction`: This will show the year of transaction.\n",
    "- `Month_transaction`: This will show the month of transaction.\n",
    "\n",
    "\n",
    "---------------"
   ]
  },
  {
   "cell_type": "code",
   "execution_count": 15,
   "metadata": {},
   "outputs": [
    {
     "data": {
      "text/html": [
       "<div>\n",
       "<style scoped>\n",
       "    .dataframe tbody tr th:only-of-type {\n",
       "        vertical-align: middle;\n",
       "    }\n",
       "\n",
       "    .dataframe tbody tr th {\n",
       "        vertical-align: top;\n",
       "    }\n",
       "\n",
       "    .dataframe thead th {\n",
       "        text-align: right;\n",
       "    }\n",
       "</style>\n",
       "<table border=\"1\" class=\"dataframe\">\n",
       "  <thead>\n",
       "    <tr style=\"text-align: right;\">\n",
       "      <th></th>\n",
       "      <th>trans_date_trans_time</th>\n",
       "      <th>cc_num</th>\n",
       "      <th>merchant</th>\n",
       "      <th>category</th>\n",
       "      <th>amt</th>\n",
       "      <th>first</th>\n",
       "      <th>last</th>\n",
       "      <th>gender</th>\n",
       "      <th>street</th>\n",
       "      <th>city</th>\n",
       "      <th>state</th>\n",
       "      <th>zip</th>\n",
       "      <th>lat</th>\n",
       "      <th>long</th>\n",
       "      <th>city_pop</th>\n",
       "      <th>job</th>\n",
       "      <th>dob</th>\n",
       "      <th>trans_num</th>\n",
       "      <th>unix_time</th>\n",
       "      <th>merch_lat</th>\n",
       "      <th>merch_long</th>\n",
       "      <th>is_fraud</th>\n",
       "      <th>Age</th>\n",
       "    </tr>\n",
       "  </thead>\n",
       "  <tbody>\n",
       "    <tr>\n",
       "      <th>0</th>\n",
       "      <td>2019-01-01 00:00:18</td>\n",
       "      <td>2703186189652095</td>\n",
       "      <td>fraud_Rippin, Kub and Mann</td>\n",
       "      <td>misc_net</td>\n",
       "      <td>4.97</td>\n",
       "      <td>Jennifer</td>\n",
       "      <td>Banks</td>\n",
       "      <td>F</td>\n",
       "      <td>561 Perry Cove</td>\n",
       "      <td>Moravian Falls</td>\n",
       "      <td>NC</td>\n",
       "      <td>28654</td>\n",
       "      <td>36.0788</td>\n",
       "      <td>-81.1781</td>\n",
       "      <td>3495</td>\n",
       "      <td>Psychologist, counselling</td>\n",
       "      <td>1988-03-09</td>\n",
       "      <td>0b242abb623afc578575680df30655b9</td>\n",
       "      <td>1325376018</td>\n",
       "      <td>36.011293</td>\n",
       "      <td>-82.048315</td>\n",
       "      <td>0</td>\n",
       "      <td>35</td>\n",
       "    </tr>\n",
       "    <tr>\n",
       "      <th>1</th>\n",
       "      <td>2019-01-01 00:00:44</td>\n",
       "      <td>630423337322</td>\n",
       "      <td>fraud_Heller, Gutmann and Zieme</td>\n",
       "      <td>grocery_pos</td>\n",
       "      <td>107.23</td>\n",
       "      <td>Stephanie</td>\n",
       "      <td>Gill</td>\n",
       "      <td>F</td>\n",
       "      <td>43039 Riley Greens Suite 393</td>\n",
       "      <td>Orient</td>\n",
       "      <td>WA</td>\n",
       "      <td>99160</td>\n",
       "      <td>48.8878</td>\n",
       "      <td>-118.2105</td>\n",
       "      <td>149</td>\n",
       "      <td>Special educational needs teacher</td>\n",
       "      <td>1978-06-21</td>\n",
       "      <td>1f76529f8574734946361c461b024d99</td>\n",
       "      <td>1325376044</td>\n",
       "      <td>49.159047</td>\n",
       "      <td>-118.186462</td>\n",
       "      <td>0</td>\n",
       "      <td>44</td>\n",
       "    </tr>\n",
       "  </tbody>\n",
       "</table>\n",
       "</div>"
      ],
      "text/plain": [
       "  trans_date_trans_time            cc_num                         merchant  \\\n",
       "0   2019-01-01 00:00:18  2703186189652095       fraud_Rippin, Kub and Mann   \n",
       "1   2019-01-01 00:00:44      630423337322  fraud_Heller, Gutmann and Zieme   \n",
       "\n",
       "      category     amt      first   last gender                        street  \\\n",
       "0     misc_net    4.97   Jennifer  Banks      F                561 Perry Cove   \n",
       "1  grocery_pos  107.23  Stephanie   Gill      F  43039 Riley Greens Suite 393   \n",
       "\n",
       "             city state    zip      lat      long  city_pop  \\\n",
       "0  Moravian Falls    NC  28654  36.0788  -81.1781      3495   \n",
       "1          Orient    WA  99160  48.8878 -118.2105       149   \n",
       "\n",
       "                                 job        dob  \\\n",
       "0          Psychologist, counselling 1988-03-09   \n",
       "1  Special educational needs teacher 1978-06-21   \n",
       "\n",
       "                          trans_num   unix_time  merch_lat  merch_long  \\\n",
       "0  0b242abb623afc578575680df30655b9  1325376018  36.011293  -82.048315   \n",
       "1  1f76529f8574734946361c461b024d99  1325376044  49.159047 -118.186462   \n",
       "\n",
       "   is_fraud  Age  \n",
       "0         0   35  \n",
       "1         0   44  "
      ]
     },
     "execution_count": 15,
     "metadata": {},
     "output_type": "execute_result"
    }
   ],
   "source": [
    "# Getting the age from Date of birth - dob\n",
    "# ----------------------------------------\n",
    "from datetime import date, datetime\n",
    "current_date = datetime.combine(date.today(), datetime.min.time()) # Get the current date & converting it into datetime\n",
    "df['Age'] = (current_date - df['dob']) // pd.Timedelta(days=365.25)\n",
    "df.head(2)"
   ]
  },
  {
   "cell_type": "code",
   "execution_count": 16,
   "metadata": {},
   "outputs": [],
   "source": [
    "# Getting the month and year from trans_date_trans_time\n",
    "# -----------------------------------------------------\n",
    "df['year_transaction'] = df['trans_date_trans_time'].dt.year\n",
    "df['month_transaction'] = df['trans_date_trans_time'].dt.month"
   ]
  },
  {
   "cell_type": "code",
   "execution_count": null,
   "metadata": {},
   "outputs": [],
   "source": []
  },
  {
   "cell_type": "code",
   "execution_count": null,
   "metadata": {},
   "outputs": [],
   "source": []
  },
  {
   "cell_type": "code",
   "execution_count": null,
   "metadata": {},
   "outputs": [],
   "source": []
  },
  {
   "attachments": {},
   "cell_type": "markdown",
   "metadata": {},
   "source": [
    "## **Exploratory Data Analysis**\n",
    "--------------------"
   ]
  },
  {
   "attachments": {},
   "cell_type": "markdown",
   "metadata": {},
   "source": [
    "### Univariate - Quantitative Variables"
   ]
  },
  {
   "cell_type": "code",
   "execution_count": 17,
   "metadata": {},
   "outputs": [
    {
     "data": {
      "image/png": "[encoded data removed]",
      "text/plain": [
       "<Figure size 1800x600 with 3 Axes>"
      ]
     },
     "metadata": {},
     "output_type": "display_data"
    }
   ],
   "source": [
    "# Visualizing the various quantitative variable\n",
    "plt.figure(figsize=(18,6))\n",
    "\n",
    "plt.subplot(1,3,1)\n",
    "sns.boxplot(df['amt'], orient='h')\n",
    "plt.title(\"Amount Variable\")\n",
    "\n",
    "plt.subplot(1,3,2)\n",
    "sns.boxplot(df['city_pop'], orient='h')\n",
    "plt.title(\"City Population\")\n",
    "\n",
    "plt.subplot(1,3,3)\n",
    "sns.boxplot(df['Age'], orient='h')\n",
    "plt.title(\"Customer Age\")\n",
    "\n",
    "plt.show()"
   ]
  },
  {
   "attachments": {},
   "cell_type": "markdown",
   "metadata": {},
   "source": [
    "We observe a lot of outliers for the 'amt' variable. Since, these might affect our further analysis, we need get rid of them.\n",
    "\n",
    "***We will be using softcapping for outlier treatment.***\n"
   ]
  },
  {
   "cell_type": "code",
   "execution_count": 18,
   "metadata": {},
   "outputs": [
    {
     "name": "stdout",
     "output_type": "stream",
     "text": [
      "(1154287, 25)\n"
     ]
    }
   ],
   "source": [
    "# Softcapping the Outliers\n",
    "# ------------------------\n",
    "df = softcapping(df, 'amt', 0.1, 0.99)\n",
    "print(df.shape)"
   ]
  },
  {
   "cell_type": "code",
   "execution_count": 19,
   "metadata": {},
   "outputs": [
    {
     "data": {
      "image/png": "[encoded data removed]",
      "text/plain": [
       "<Figure size 1800x500 with 3 Axes>"
      ]
     },
     "metadata": {},
     "output_type": "display_data"
    }
   ],
   "source": [
    "# Plotting Distributions for Quantitative Variables\n",
    "# -------------------------------------------------\n",
    "plt.figure(figsize=(18,5))\n",
    "\n",
    "plt.subplot(1,3,1)\n",
    "sns.boxplot(df['amt'], orient='h')\n",
    "plt.title(\"Amount Variable\")\n",
    "\n",
    "plt.subplot(1,3,2)\n",
    "sns.boxplot(df['city_pop'], orient='h')\n",
    "plt.title(\"City Population\")\n",
    "\n",
    "plt.subplot(1,3,3)\n",
    "sns.boxplot(df['Age'], orient='h')\n",
    "plt.title(\"Customer Age\")\n",
    "\n",
    "plt.show()"
   ]
  },
  {
   "attachments": {},
   "cell_type": "markdown",
   "metadata": {},
   "source": [
    "**We can see that for the 'amt' columns, extreme outliers are removed.**"
   ]
  },
  {
   "cell_type": "code",
   "execution_count": 20,
   "metadata": {},
   "outputs": [
    {
     "data": {
      "image/png": "[encoded data removed]",
      "text/plain": [
       "<Figure size 1800x500 with 3 Axes>"
      ]
     },
     "metadata": {},
     "output_type": "display_data"
    }
   ],
   "source": [
    "# Plotting Distributions for Quantitative Variables\n",
    "# -------------------------------------------------\n",
    "plt.figure(figsize=(18,5))\n",
    "plt.subplot(1,3,1)\n",
    "plt.hist(df['amt'], bins=20)\n",
    "plt.title(\"Amount Variable\")\n",
    "\n",
    "plt.subplot(1,3,2)\n",
    "plt.hist(df['city_pop'], bins=20)\n",
    "plt.title(\"City Population\")\n",
    "\n",
    "plt.subplot(1,3,3)\n",
    "plt.hist(df['Age'], bins=20)\n",
    "plt.title(\"Customer Age\")\n",
    "\n",
    "plt.show()"
   ]
  },
  {
   "cell_type": "code",
   "execution_count": 21,
   "metadata": {},
   "outputs": [],
   "source": [
    "# Observations\n",
    "# ------------\n"
   ]
  },
  {
   "attachments": {},
   "cell_type": "markdown",
   "metadata": {},
   "source": [
    "### Univariate - Categorical Variables"
   ]
  },
  {
   "cell_type": "code",
   "execution_count": 22,
   "metadata": {},
   "outputs": [
    {
     "data": {
      "image/png": "[encoded data removed]",
      "text/plain": [
       "<Figure size 1500x500 with 2 Axes>"
      ]
     },
     "metadata": {},
     "output_type": "display_data"
    }
   ],
   "source": [
    "# Visualizing the various Categorical variables\n",
    "# ---------------------------------------------\n",
    "\n",
    "plt.figure(figsize=(15,5))\n",
    "\n",
    "plt.subplot(1,2,1)\n",
    "sns.countplot(y='gender', data=df)\n",
    "plt.xticks(rotation=60)\n",
    "plt.title('Gender Distribution')\n",
    "\n",
    "plt.subplot(1,2,2)\n",
    "# Get the value counts in descending order\n",
    "category_count = df['category'].value_counts().sort_values(ascending=False)\n",
    "sns.countplot(x='category', data=df, order=category_count.index)\n",
    "plt.xticks(rotation=90)\n",
    "plt.title('Category Distribution')\n",
    "\n",
    "plt.show()"
   ]
  },
  {
   "cell_type": "code",
   "execution_count": 23,
   "metadata": {},
   "outputs": [],
   "source": [
    "# Observations\n",
    "# ------------\n"
   ]
  },
  {
   "attachments": {},
   "cell_type": "markdown",
   "metadata": {},
   "source": [
    "### Bivariate Analysis"
   ]
  },
  {
   "cell_type": "code",
   "execution_count": null,
   "metadata": {},
   "outputs": [],
   "source": []
  },
  {
   "attachments": {},
   "cell_type": "markdown",
   "metadata": {},
   "source": []
  },
  {
   "attachments": {},
   "cell_type": "markdown",
   "metadata": {},
   "source": [
    "**Observations**\n",
    "\n",
    "We see that number of female victims of fraud are a little more as compared to male victims."
   ]
  },
  {
   "cell_type": "code",
   "execution_count": 24,
   "metadata": {},
   "outputs": [
    {
     "data": {
      "text/html": [
       "<div>\n",
       "<style scoped>\n",
       "    .dataframe tbody tr th:only-of-type {\n",
       "        vertical-align: middle;\n",
       "    }\n",
       "\n",
       "    .dataframe tbody tr th {\n",
       "        vertical-align: top;\n",
       "    }\n",
       "\n",
       "    .dataframe thead th {\n",
       "        text-align: right;\n",
       "    }\n",
       "</style>\n",
       "<table border=\"1\" class=\"dataframe\">\n",
       "  <thead>\n",
       "    <tr style=\"text-align: right;\">\n",
       "      <th></th>\n",
       "      <th>trans_date_trans_time</th>\n",
       "      <th>cc_num</th>\n",
       "      <th>merchant</th>\n",
       "      <th>category</th>\n",
       "      <th>amt</th>\n",
       "      <th>first</th>\n",
       "      <th>last</th>\n",
       "      <th>gender</th>\n",
       "      <th>street</th>\n",
       "      <th>city</th>\n",
       "      <th>state</th>\n",
       "      <th>zip</th>\n",
       "      <th>lat</th>\n",
       "      <th>long</th>\n",
       "      <th>city_pop</th>\n",
       "      <th>job</th>\n",
       "      <th>dob</th>\n",
       "      <th>trans_num</th>\n",
       "      <th>unix_time</th>\n",
       "      <th>merch_lat</th>\n",
       "      <th>merch_long</th>\n",
       "      <th>is_fraud</th>\n",
       "      <th>Age</th>\n",
       "      <th>year_transaction</th>\n",
       "      <th>month_transaction</th>\n",
       "    </tr>\n",
       "  </thead>\n",
       "  <tbody>\n",
       "    <tr>\n",
       "      <th>0</th>\n",
       "      <td>2019-01-01 00:00:18</td>\n",
       "      <td>2703186189652095</td>\n",
       "      <td>fraud_Rippin, Kub and Mann</td>\n",
       "      <td>misc_net</td>\n",
       "      <td>4.97</td>\n",
       "      <td>Jennifer</td>\n",
       "      <td>Banks</td>\n",
       "      <td>F</td>\n",
       "      <td>561 Perry Cove</td>\n",
       "      <td>Moravian Falls</td>\n",
       "      <td>NC</td>\n",
       "      <td>28654</td>\n",
       "      <td>36.0788</td>\n",
       "      <td>-81.1781</td>\n",
       "      <td>3495</td>\n",
       "      <td>Psychologist, counselling</td>\n",
       "      <td>1988-03-09</td>\n",
       "      <td>0b242abb623afc578575680df30655b9</td>\n",
       "      <td>1325376018</td>\n",
       "      <td>36.011293</td>\n",
       "      <td>-82.048315</td>\n",
       "      <td>0</td>\n",
       "      <td>35</td>\n",
       "      <td>2019</td>\n",
       "      <td>1</td>\n",
       "    </tr>\n",
       "    <tr>\n",
       "      <th>1</th>\n",
       "      <td>2019-01-01 00:00:44</td>\n",
       "      <td>630423337322</td>\n",
       "      <td>fraud_Heller, Gutmann and Zieme</td>\n",
       "      <td>grocery_pos</td>\n",
       "      <td>107.23</td>\n",
       "      <td>Stephanie</td>\n",
       "      <td>Gill</td>\n",
       "      <td>F</td>\n",
       "      <td>43039 Riley Greens Suite 393</td>\n",
       "      <td>Orient</td>\n",
       "      <td>WA</td>\n",
       "      <td>99160</td>\n",
       "      <td>48.8878</td>\n",
       "      <td>-118.2105</td>\n",
       "      <td>149</td>\n",
       "      <td>Special educational needs teacher</td>\n",
       "      <td>1978-06-21</td>\n",
       "      <td>1f76529f8574734946361c461b024d99</td>\n",
       "      <td>1325376044</td>\n",
       "      <td>49.159047</td>\n",
       "      <td>-118.186462</td>\n",
       "      <td>0</td>\n",
       "      <td>44</td>\n",
       "      <td>2019</td>\n",
       "      <td>1</td>\n",
       "    </tr>\n",
       "  </tbody>\n",
       "</table>\n",
       "</div>"
      ],
      "text/plain": [
       "  trans_date_trans_time            cc_num                         merchant  \\\n",
       "0   2019-01-01 00:00:18  2703186189652095       fraud_Rippin, Kub and Mann   \n",
       "1   2019-01-01 00:00:44      630423337322  fraud_Heller, Gutmann and Zieme   \n",
       "\n",
       "      category     amt      first   last gender                        street  \\\n",
       "0     misc_net    4.97   Jennifer  Banks      F                561 Perry Cove   \n",
       "1  grocery_pos  107.23  Stephanie   Gill      F  43039 Riley Greens Suite 393   \n",
       "\n",
       "             city state    zip      lat      long  city_pop  \\\n",
       "0  Moravian Falls    NC  28654  36.0788  -81.1781      3495   \n",
       "1          Orient    WA  99160  48.8878 -118.2105       149   \n",
       "\n",
       "                                 job        dob  \\\n",
       "0          Psychologist, counselling 1988-03-09   \n",
       "1  Special educational needs teacher 1978-06-21   \n",
       "\n",
       "                          trans_num   unix_time  merch_lat  merch_long  \\\n",
       "0  0b242abb623afc578575680df30655b9  1325376018  36.011293  -82.048315   \n",
       "1  1f76529f8574734946361c461b024d99  1325376044  49.159047 -118.186462   \n",
       "\n",
       "   is_fraud  Age  year_transaction  month_transaction  \n",
       "0         0   35              2019                  1  \n",
       "1         0   44              2019                  1  "
      ]
     },
     "execution_count": 24,
     "metadata": {},
     "output_type": "execute_result"
    }
   ],
   "source": [
    "df.head(2)"
   ]
  },
  {
   "cell_type": "code",
   "execution_count": 25,
   "metadata": {},
   "outputs": [],
   "source": [
    "# def fraud_status(x):\n",
    "#     if x==1:        return \"Fraud\"\n",
    "#     else:           return \"Not Fraud\"\n",
    "# df['is_fraud'] = df['is_fraud'].apply(fraud_status)\n",
    "# df.head(1)\n",
    "\n",
    "# Creating a csv copy\n",
    "# -------------------\n",
    "# df.to_csv(\"G:\\\\My Drive\\\\Study\\\\Project - Credit Card Fraud Detection\\\\Data\\\\Clean_data_1.csv\")"
   ]
  },
  {
   "cell_type": "code",
   "execution_count": null,
   "metadata": {},
   "outputs": [],
   "source": []
  },
  {
   "attachments": {},
   "cell_type": "markdown",
   "metadata": {},
   "source": [
    "## **Preparing Data Data Modelling**\n",
    "---------------"
   ]
  },
  {
   "cell_type": "code",
   "execution_count": 26,
   "metadata": {},
   "outputs": [
    {
     "data": {
      "text/html": [
       "<div>\n",
       "<style scoped>\n",
       "    .dataframe tbody tr th:only-of-type {\n",
       "        vertical-align: middle;\n",
       "    }\n",
       "\n",
       "    .dataframe tbody tr th {\n",
       "        vertical-align: top;\n",
       "    }\n",
       "\n",
       "    .dataframe thead th {\n",
       "        text-align: right;\n",
       "    }\n",
       "</style>\n",
       "<table border=\"1\" class=\"dataframe\">\n",
       "  <thead>\n",
       "    <tr style=\"text-align: right;\">\n",
       "      <th></th>\n",
       "      <th>trans_date_trans_time</th>\n",
       "      <th>cc_num</th>\n",
       "      <th>merchant</th>\n",
       "      <th>category</th>\n",
       "      <th>amt</th>\n",
       "      <th>first</th>\n",
       "      <th>last</th>\n",
       "      <th>gender</th>\n",
       "      <th>street</th>\n",
       "      <th>city</th>\n",
       "      <th>state</th>\n",
       "      <th>zip</th>\n",
       "      <th>lat</th>\n",
       "      <th>long</th>\n",
       "      <th>city_pop</th>\n",
       "      <th>job</th>\n",
       "      <th>dob</th>\n",
       "      <th>unix_time</th>\n",
       "      <th>merch_lat</th>\n",
       "      <th>merch_long</th>\n",
       "      <th>is_fraud</th>\n",
       "      <th>Age</th>\n",
       "      <th>year_transaction</th>\n",
       "      <th>month_transaction</th>\n",
       "    </tr>\n",
       "    <tr>\n",
       "      <th>trans_num</th>\n",
       "      <th></th>\n",
       "      <th></th>\n",
       "      <th></th>\n",
       "      <th></th>\n",
       "      <th></th>\n",
       "      <th></th>\n",
       "      <th></th>\n",
       "      <th></th>\n",
       "      <th></th>\n",
       "      <th></th>\n",
       "      <th></th>\n",
       "      <th></th>\n",
       "      <th></th>\n",
       "      <th></th>\n",
       "      <th></th>\n",
       "      <th></th>\n",
       "      <th></th>\n",
       "      <th></th>\n",
       "      <th></th>\n",
       "      <th></th>\n",
       "      <th></th>\n",
       "      <th></th>\n",
       "      <th></th>\n",
       "      <th></th>\n",
       "    </tr>\n",
       "  </thead>\n",
       "  <tbody>\n",
       "    <tr>\n",
       "      <th>0b242abb623afc578575680df30655b9</th>\n",
       "      <td>2019-01-01 00:00:18</td>\n",
       "      <td>2703186189652095</td>\n",
       "      <td>fraud_Rippin, Kub and Mann</td>\n",
       "      <td>misc_net</td>\n",
       "      <td>4.97</td>\n",
       "      <td>Jennifer</td>\n",
       "      <td>Banks</td>\n",
       "      <td>F</td>\n",
       "      <td>561 Perry Cove</td>\n",
       "      <td>Moravian Falls</td>\n",
       "      <td>NC</td>\n",
       "      <td>28654</td>\n",
       "      <td>36.0788</td>\n",
       "      <td>-81.1781</td>\n",
       "      <td>3495</td>\n",
       "      <td>Psychologist, counselling</td>\n",
       "      <td>1988-03-09</td>\n",
       "      <td>1325376018</td>\n",
       "      <td>36.011293</td>\n",
       "      <td>-82.048315</td>\n",
       "      <td>0</td>\n",
       "      <td>35</td>\n",
       "      <td>2019</td>\n",
       "      <td>1</td>\n",
       "    </tr>\n",
       "    <tr>\n",
       "      <th>1f76529f8574734946361c461b024d99</th>\n",
       "      <td>2019-01-01 00:00:44</td>\n",
       "      <td>630423337322</td>\n",
       "      <td>fraud_Heller, Gutmann and Zieme</td>\n",
       "      <td>grocery_pos</td>\n",
       "      <td>107.23</td>\n",
       "      <td>Stephanie</td>\n",
       "      <td>Gill</td>\n",
       "      <td>F</td>\n",
       "      <td>43039 Riley Greens Suite 393</td>\n",
       "      <td>Orient</td>\n",
       "      <td>WA</td>\n",
       "      <td>99160</td>\n",
       "      <td>48.8878</td>\n",
       "      <td>-118.2105</td>\n",
       "      <td>149</td>\n",
       "      <td>Special educational needs teacher</td>\n",
       "      <td>1978-06-21</td>\n",
       "      <td>1325376044</td>\n",
       "      <td>49.159047</td>\n",
       "      <td>-118.186462</td>\n",
       "      <td>0</td>\n",
       "      <td>44</td>\n",
       "      <td>2019</td>\n",
       "      <td>1</td>\n",
       "    </tr>\n",
       "  </tbody>\n",
       "</table>\n",
       "</div>"
      ],
      "text/plain": [
       "                                 trans_date_trans_time            cc_num  \\\n",
       "trans_num                                                                  \n",
       "0b242abb623afc578575680df30655b9   2019-01-01 00:00:18  2703186189652095   \n",
       "1f76529f8574734946361c461b024d99   2019-01-01 00:00:44      630423337322   \n",
       "\n",
       "                                                         merchant  \\\n",
       "trans_num                                                           \n",
       "0b242abb623afc578575680df30655b9       fraud_Rippin, Kub and Mann   \n",
       "1f76529f8574734946361c461b024d99  fraud_Heller, Gutmann and Zieme   \n",
       "\n",
       "                                     category     amt      first   last  \\\n",
       "trans_num                                                                 \n",
       "0b242abb623afc578575680df30655b9     misc_net    4.97   Jennifer  Banks   \n",
       "1f76529f8574734946361c461b024d99  grocery_pos  107.23  Stephanie   Gill   \n",
       "\n",
       "                                 gender                        street  \\\n",
       "trans_num                                                               \n",
       "0b242abb623afc578575680df30655b9      F                561 Perry Cove   \n",
       "1f76529f8574734946361c461b024d99      F  43039 Riley Greens Suite 393   \n",
       "\n",
       "                                            city state    zip      lat  \\\n",
       "trans_num                                                                \n",
       "0b242abb623afc578575680df30655b9  Moravian Falls    NC  28654  36.0788   \n",
       "1f76529f8574734946361c461b024d99          Orient    WA  99160  48.8878   \n",
       "\n",
       "                                      long  city_pop  \\\n",
       "trans_num                                              \n",
       "0b242abb623afc578575680df30655b9  -81.1781      3495   \n",
       "1f76529f8574734946361c461b024d99 -118.2105       149   \n",
       "\n",
       "                                                                job  \\\n",
       "trans_num                                                             \n",
       "0b242abb623afc578575680df30655b9          Psychologist, counselling   \n",
       "1f76529f8574734946361c461b024d99  Special educational needs teacher   \n",
       "\n",
       "                                        dob   unix_time  merch_lat  \\\n",
       "trans_num                                                            \n",
       "0b242abb623afc578575680df30655b9 1988-03-09  1325376018  36.011293   \n",
       "1f76529f8574734946361c461b024d99 1978-06-21  1325376044  49.159047   \n",
       "\n",
       "                                  merch_long  is_fraud  Age  year_transaction  \\\n",
       "trans_num                                                                       \n",
       "0b242abb623afc578575680df30655b9  -82.048315         0   35              2019   \n",
       "1f76529f8574734946361c461b024d99 -118.186462         0   44              2019   \n",
       "\n",
       "                                  month_transaction  \n",
       "trans_num                                            \n",
       "0b242abb623afc578575680df30655b9                  1  \n",
       "1f76529f8574734946361c461b024d99                  1  "
      ]
     },
     "execution_count": 26,
     "metadata": {},
     "output_type": "execute_result"
    }
   ],
   "source": [
    "# Setting the transaction id as index\n",
    "# -----------------------------------\n",
    "df.set_index('trans_num', inplace=True)\n",
    "df.head(2)"
   ]
  },
  {
   "cell_type": "code",
   "execution_count": null,
   "metadata": {},
   "outputs": [],
   "source": []
  },
  {
   "cell_type": "code",
   "execution_count": null,
   "metadata": {},
   "outputs": [],
   "source": []
  },
  {
   "cell_type": "code",
   "execution_count": 27,
   "metadata": {},
   "outputs": [],
   "source": [
    "# Generating a sample of Data for faster computing\n",
    "# ------------------------------------------------\n",
    "# df_1 = df.sample(n=20000, )\n",
    "# df_fraud = df[df['is_fraud']=='Fraud']\n",
    "# df_notfraud = df[df['is_fraud']=='Not Fraud']\n",
    "# df_notfraud_sample = df_notfraud.sample(20000, random_state=42, replace=True)\n",
    "\n",
    "# # Concatenate the dataframes row-wise\n",
    "# df_1 = pd.concat([df_fraud, df_notfraud_sample], axis=0)\n",
    "# display(df_1.head(2))"
   ]
  },
  {
   "cell_type": "code",
   "execution_count": 28,
   "metadata": {},
   "outputs": [
    {
     "name": "stdout",
     "output_type": "stream",
     "text": [
      "Shape of Data:  (1154287, 10)\n"
     ]
    },
    {
     "data": {
      "text/html": [
       "<div>\n",
       "<style scoped>\n",
       "    .dataframe tbody tr th:only-of-type {\n",
       "        vertical-align: middle;\n",
       "    }\n",
       "\n",
       "    .dataframe tbody tr th {\n",
       "        vertical-align: top;\n",
       "    }\n",
       "\n",
       "    .dataframe thead th {\n",
       "        text-align: right;\n",
       "    }\n",
       "</style>\n",
       "<table border=\"1\" class=\"dataframe\">\n",
       "  <thead>\n",
       "    <tr style=\"text-align: right;\">\n",
       "      <th></th>\n",
       "      <th>category</th>\n",
       "      <th>amt</th>\n",
       "      <th>gender</th>\n",
       "      <th>state</th>\n",
       "      <th>city</th>\n",
       "      <th>city_pop</th>\n",
       "      <th>Age</th>\n",
       "      <th>year_transaction</th>\n",
       "      <th>month_transaction</th>\n",
       "      <th>is_fraud</th>\n",
       "    </tr>\n",
       "    <tr>\n",
       "      <th>trans_num</th>\n",
       "      <th></th>\n",
       "      <th></th>\n",
       "      <th></th>\n",
       "      <th></th>\n",
       "      <th></th>\n",
       "      <th></th>\n",
       "      <th></th>\n",
       "      <th></th>\n",
       "      <th></th>\n",
       "      <th></th>\n",
       "    </tr>\n",
       "  </thead>\n",
       "  <tbody>\n",
       "    <tr>\n",
       "      <th>0b242abb623afc578575680df30655b9</th>\n",
       "      <td>misc_net</td>\n",
       "      <td>4.97</td>\n",
       "      <td>F</td>\n",
       "      <td>NC</td>\n",
       "      <td>Moravian Falls</td>\n",
       "      <td>3495</td>\n",
       "      <td>35</td>\n",
       "      <td>2019</td>\n",
       "      <td>1</td>\n",
       "      <td>0</td>\n",
       "    </tr>\n",
       "    <tr>\n",
       "      <th>1f76529f8574734946361c461b024d99</th>\n",
       "      <td>grocery_pos</td>\n",
       "      <td>107.23</td>\n",
       "      <td>F</td>\n",
       "      <td>WA</td>\n",
       "      <td>Orient</td>\n",
       "      <td>149</td>\n",
       "      <td>44</td>\n",
       "      <td>2019</td>\n",
       "      <td>1</td>\n",
       "      <td>0</td>\n",
       "    </tr>\n",
       "    <tr>\n",
       "      <th>a1a22d70485983eac12b5b88dad1cf95</th>\n",
       "      <td>entertainment</td>\n",
       "      <td>220.11</td>\n",
       "      <td>M</td>\n",
       "      <td>ID</td>\n",
       "      <td>Malad City</td>\n",
       "      <td>4154</td>\n",
       "      <td>61</td>\n",
       "      <td>2019</td>\n",
       "      <td>1</td>\n",
       "      <td>0</td>\n",
       "    </tr>\n",
       "    <tr>\n",
       "      <th>6b849c168bdad6f867558c3793159a81</th>\n",
       "      <td>gas_transport</td>\n",
       "      <td>45.00</td>\n",
       "      <td>M</td>\n",
       "      <td>MT</td>\n",
       "      <td>Boulder</td>\n",
       "      <td>1939</td>\n",
       "      <td>56</td>\n",
       "      <td>2019</td>\n",
       "      <td>1</td>\n",
       "      <td>0</td>\n",
       "    </tr>\n",
       "    <tr>\n",
       "      <th>a41d7549acf90789359a9aa5346dcb46</th>\n",
       "      <td>misc_pos</td>\n",
       "      <td>41.96</td>\n",
       "      <td>M</td>\n",
       "      <td>VA</td>\n",
       "      <td>Doe Hill</td>\n",
       "      <td>99</td>\n",
       "      <td>37</td>\n",
       "      <td>2019</td>\n",
       "      <td>1</td>\n",
       "      <td>0</td>\n",
       "    </tr>\n",
       "  </tbody>\n",
       "</table>\n",
       "</div>"
      ],
      "text/plain": [
       "                                       category     amt gender state  \\\n",
       "trans_num                                                              \n",
       "0b242abb623afc578575680df30655b9       misc_net    4.97      F    NC   \n",
       "1f76529f8574734946361c461b024d99    grocery_pos  107.23      F    WA   \n",
       "a1a22d70485983eac12b5b88dad1cf95  entertainment  220.11      M    ID   \n",
       "6b849c168bdad6f867558c3793159a81  gas_transport   45.00      M    MT   \n",
       "a41d7549acf90789359a9aa5346dcb46       misc_pos   41.96      M    VA   \n",
       "\n",
       "                                            city  city_pop  Age  \\\n",
       "trans_num                                                         \n",
       "0b242abb623afc578575680df30655b9  Moravian Falls      3495   35   \n",
       "1f76529f8574734946361c461b024d99          Orient       149   44   \n",
       "a1a22d70485983eac12b5b88dad1cf95      Malad City      4154   61   \n",
       "6b849c168bdad6f867558c3793159a81         Boulder      1939   56   \n",
       "a41d7549acf90789359a9aa5346dcb46        Doe Hill        99   37   \n",
       "\n",
       "                                  year_transaction  month_transaction  \\\n",
       "trans_num                                                               \n",
       "0b242abb623afc578575680df30655b9              2019                  1   \n",
       "1f76529f8574734946361c461b024d99              2019                  1   \n",
       "a1a22d70485983eac12b5b88dad1cf95              2019                  1   \n",
       "6b849c168bdad6f867558c3793159a81              2019                  1   \n",
       "a41d7549acf90789359a9aa5346dcb46              2019                  1   \n",
       "\n",
       "                                  is_fraud  \n",
       "trans_num                                   \n",
       "0b242abb623afc578575680df30655b9         0  \n",
       "1f76529f8574734946361c461b024d99         0  \n",
       "a1a22d70485983eac12b5b88dad1cf95         0  \n",
       "6b849c168bdad6f867558c3793159a81         0  \n",
       "a41d7549acf90789359a9aa5346dcb46         0  "
      ]
     },
     "metadata": {},
     "output_type": "display_data"
    }
   ],
   "source": [
    "# Filtering the columns we need\n",
    "# -----------------------------\n",
    "required_columns = ['category', 'amt', 'gender', 'state', 'city',\n",
    "                    'city_pop', 'Age', 'year_transaction', \n",
    "                    'month_transaction', 'is_fraud']\n",
    "\n",
    "df_2 = df[required_columns]\n",
    "print(\"Shape of Data: \", df_2.shape)\n",
    "display(df_2.head())\n"
   ]
  },
  {
   "cell_type": "code",
   "execution_count": 29,
   "metadata": {},
   "outputs": [
    {
     "name": "stdout",
     "output_type": "stream",
     "text": [
      "0    1150399\n",
      "1       3888\n",
      "Name: is_fraud, dtype: int64\n"
     ]
    }
   ],
   "source": [
    "print(df_2.is_fraud.value_counts())"
   ]
  },
  {
   "cell_type": "code",
   "execution_count": 30,
   "metadata": {},
   "outputs": [
    {
     "name": "stdout",
     "output_type": "stream",
     "text": [
      "2019    823433\n",
      "2020    330854\n",
      "Name: year_transaction, dtype: int64\n"
     ]
    }
   ],
   "source": [
    "print(df_2['year_transaction'].value_counts())"
   ]
  },
  {
   "cell_type": "code",
   "execution_count": 31,
   "metadata": {},
   "outputs": [],
   "source": [
    "# Encoding the variables\n",
    "# ----------------------\n",
    "\n",
    "from sklearn.preprocessing import OrdinalEncoder\n",
    "\n",
    "# Initialize OrdinalEncoder\n",
    "ordinal_encoder = OrdinalEncoder()\n",
    "\n",
    "# Fit and transform the categorical column\n",
    "df_2['category_encoded'] = ordinal_encoder.fit_transform(df_2[['category']])\n",
    "df_2['city_encoded'] = ordinal_encoder.fit_transform(df_2[['city']])\n",
    "df_2['state_encoded'] = ordinal_encoder.fit_transform(df_2[['state']])\n",
    "\n",
    "def gender_(x):\n",
    "    if x == 'M':    return 1\n",
    "    else:           return 0\n",
    "df_2['gender'] = df_2['gender'].apply(gender_)\n",
    "\n",
    "def year_(x):\n",
    "    if x == 2019:   return 1\n",
    "    else:           return 0\n",
    "df_2['year_transaction'] = df['year_transaction'].apply(year_)\n",
    "\n",
    "\n",
    "df_2.drop(['category', 'city', 'state'], axis=1, inplace=True)\n",
    "\n"
   ]
  },
  {
   "cell_type": "code",
   "execution_count": 32,
   "metadata": {},
   "outputs": [
    {
     "name": "stdout",
     "output_type": "stream",
     "text": [
      "0    1150399\n",
      "1       3888\n",
      "Name: is_fraud, dtype: int64\n"
     ]
    }
   ],
   "source": [
    "print(df_2.is_fraud.value_counts())"
   ]
  },
  {
   "cell_type": "code",
   "execution_count": 33,
   "metadata": {},
   "outputs": [
    {
     "data": {
      "text/html": [
       "<div>\n",
       "<style scoped>\n",
       "    .dataframe tbody tr th:only-of-type {\n",
       "        vertical-align: middle;\n",
       "    }\n",
       "\n",
       "    .dataframe tbody tr th {\n",
       "        vertical-align: top;\n",
       "    }\n",
       "\n",
       "    .dataframe thead th {\n",
       "        text-align: right;\n",
       "    }\n",
       "</style>\n",
       "<table border=\"1\" class=\"dataframe\">\n",
       "  <thead>\n",
       "    <tr style=\"text-align: right;\">\n",
       "      <th></th>\n",
       "      <th>amt</th>\n",
       "      <th>gender</th>\n",
       "      <th>city_pop</th>\n",
       "      <th>Age</th>\n",
       "      <th>year_transaction</th>\n",
       "      <th>month_transaction</th>\n",
       "      <th>is_fraud</th>\n",
       "      <th>category_encoded</th>\n",
       "      <th>city_encoded</th>\n",
       "      <th>state_encoded</th>\n",
       "    </tr>\n",
       "    <tr>\n",
       "      <th>trans_num</th>\n",
       "      <th></th>\n",
       "      <th></th>\n",
       "      <th></th>\n",
       "      <th></th>\n",
       "      <th></th>\n",
       "      <th></th>\n",
       "      <th></th>\n",
       "      <th></th>\n",
       "      <th></th>\n",
       "      <th></th>\n",
       "    </tr>\n",
       "  </thead>\n",
       "  <tbody>\n",
       "    <tr>\n",
       "      <th>0b242abb623afc578575680df30655b9</th>\n",
       "      <td>4.97</td>\n",
       "      <td>0</td>\n",
       "      <td>-0.281038</td>\n",
       "      <td>35</td>\n",
       "      <td>1</td>\n",
       "      <td>1</td>\n",
       "      <td>0</td>\n",
       "      <td>8.0</td>\n",
       "      <td>526.0</td>\n",
       "      <td>27.0</td>\n",
       "    </tr>\n",
       "    <tr>\n",
       "      <th>1f76529f8574734946361c461b024d99</th>\n",
       "      <td>107.23</td>\n",
       "      <td>0</td>\n",
       "      <td>-0.292141</td>\n",
       "      <td>44</td>\n",
       "      <td>1</td>\n",
       "      <td>1</td>\n",
       "      <td>0</td>\n",
       "      <td>4.0</td>\n",
       "      <td>612.0</td>\n",
       "      <td>47.0</td>\n",
       "    </tr>\n",
       "    <tr>\n",
       "      <th>a1a22d70485983eac12b5b88dad1cf95</th>\n",
       "      <td>220.11</td>\n",
       "      <td>1</td>\n",
       "      <td>-0.278851</td>\n",
       "      <td>61</td>\n",
       "      <td>1</td>\n",
       "      <td>1</td>\n",
       "      <td>0</td>\n",
       "      <td>0.0</td>\n",
       "      <td>468.0</td>\n",
       "      <td>13.0</td>\n",
       "    </tr>\n",
       "    <tr>\n",
       "      <th>6b849c168bdad6f867558c3793159a81</th>\n",
       "      <td>45.00</td>\n",
       "      <td>1</td>\n",
       "      <td>-0.286201</td>\n",
       "      <td>56</td>\n",
       "      <td>1</td>\n",
       "      <td>1</td>\n",
       "      <td>0</td>\n",
       "      <td>2.0</td>\n",
       "      <td>84.0</td>\n",
       "      <td>26.0</td>\n",
       "    </tr>\n",
       "    <tr>\n",
       "      <th>a41d7549acf90789359a9aa5346dcb46</th>\n",
       "      <td>41.96</td>\n",
       "      <td>1</td>\n",
       "      <td>-0.292307</td>\n",
       "      <td>37</td>\n",
       "      <td>1</td>\n",
       "      <td>1</td>\n",
       "      <td>0</td>\n",
       "      <td>9.0</td>\n",
       "      <td>216.0</td>\n",
       "      <td>45.0</td>\n",
       "    </tr>\n",
       "  </tbody>\n",
       "</table>\n",
       "</div>"
      ],
      "text/plain": [
       "                                     amt  gender  city_pop  Age  \\\n",
       "trans_num                                                         \n",
       "0b242abb623afc578575680df30655b9    4.97       0 -0.281038   35   \n",
       "1f76529f8574734946361c461b024d99  107.23       0 -0.292141   44   \n",
       "a1a22d70485983eac12b5b88dad1cf95  220.11       1 -0.278851   61   \n",
       "6b849c168bdad6f867558c3793159a81   45.00       1 -0.286201   56   \n",
       "a41d7549acf90789359a9aa5346dcb46   41.96       1 -0.292307   37   \n",
       "\n",
       "                                  year_transaction  month_transaction  \\\n",
       "trans_num                                                               \n",
       "0b242abb623afc578575680df30655b9                 1                  1   \n",
       "1f76529f8574734946361c461b024d99                 1                  1   \n",
       "a1a22d70485983eac12b5b88dad1cf95                 1                  1   \n",
       "6b849c168bdad6f867558c3793159a81                 1                  1   \n",
       "a41d7549acf90789359a9aa5346dcb46                 1                  1   \n",
       "\n",
       "                                  is_fraud  category_encoded  city_encoded  \\\n",
       "trans_num                                                                    \n",
       "0b242abb623afc578575680df30655b9         0               8.0         526.0   \n",
       "1f76529f8574734946361c461b024d99         0               4.0         612.0   \n",
       "a1a22d70485983eac12b5b88dad1cf95         0               0.0         468.0   \n",
       "6b849c168bdad6f867558c3793159a81         0               2.0          84.0   \n",
       "a41d7549acf90789359a9aa5346dcb46         0               9.0         216.0   \n",
       "\n",
       "                                  state_encoded  \n",
       "trans_num                                        \n",
       "0b242abb623afc578575680df30655b9           27.0  \n",
       "1f76529f8574734946361c461b024d99           47.0  \n",
       "a1a22d70485983eac12b5b88dad1cf95           13.0  \n",
       "6b849c168bdad6f867558c3793159a81           26.0  \n",
       "a41d7549acf90789359a9aa5346dcb46           45.0  "
      ]
     },
     "execution_count": 33,
     "metadata": {},
     "output_type": "execute_result"
    }
   ],
   "source": [
    "# Applying Standard Scaling\n",
    "# -------------------------\n",
    "from sklearn.preprocessing import StandardScaler\n",
    "std_scalar = StandardScaler()\n",
    "\n",
    "scaled_data_temp = std_scalar.fit_transform(df_2['city_pop'].values.reshape(-1,1))\n",
    "\n",
    "df_2['city_pop'] = scaled_data_temp\n",
    "df_2.head()"
   ]
  },
  {
   "attachments": {},
   "cell_type": "markdown",
   "metadata": {},
   "source": [
    "## **Modelling the Data**\n",
    "\n",
    "------------------"
   ]
  },
  {
   "attachments": {},
   "cell_type": "markdown",
   "metadata": {},
   "source": [
    "### **Deciding on the metric to check model performance**\n",
    "\n",
    "I will be using the \n",
    "\n",
    "#### **Confusion Matrix**\n",
    "\n",
    "`True Positive`: Predicted values is Fraud(1), and True Value is also Fraud(1).\n",
    "\n",
    "`True Negative`: Predicted values is Not-Fraud(0), and True Value is also Not-Fraud(0).\n",
    "\n",
    "`False Positive`: Predicted value is Fraud(1), and True Value is Not-Fraud(0).\n",
    "\n",
    "`False Negative`: Predicted value is Not-Fraud(0), and True Value is Fraud(1).\n"
   ]
  },
  {
   "attachments": {},
   "cell_type": "markdown",
   "metadata": {},
   "source": [
    "### **Logistic Regression**"
   ]
  },
  {
   "cell_type": "code",
   "execution_count": 62,
   "metadata": {},
   "outputs": [
    {
     "name": "stdout",
     "output_type": "stream",
     "text": [
      "Model Training!!\n",
      "Fold 1 --> Accuracy = 0.9547 : F1-Score = 0.0691\n",
      "Matthews Corr. Coeff. = 0.13\n",
      "Fold 2 --> Accuracy = 0.6907 : F1-Score = 0.0129\n",
      "Matthews Corr. Coeff. = 0.04\n",
      "Fold 3 --> Accuracy = 0.819 : F1-Score = 0.0213\n",
      "Matthews Corr. Coeff. = 0.06\n",
      "Fold 4 --> Accuracy = 0.8498 : F1-Score = 0.0249\n",
      "Matthews Corr. Coeff. = 0.07\n",
      "Fold 5 --> Accuracy = 0.1185 : F1-Score = 0.0071\n",
      "Matthews Corr. Coeff. = 0.01\n",
      "\n",
      "TRAINING COMPLETE!!\n",
      "--------------------------------------------\n",
      "Testing Logistic Regression on unseen data!!\n",
      "--------------------------------------------\n",
      "Accuracy                     -  0.1195\n",
      "Precision                    -  0.0035\n",
      "Recall                       -  0.928\n",
      "F1-Score                     -  0.0071\n",
      "Matthews Correlation Score   -  0.0081\n",
      "Confusion Matrix!!\n",
      "[[ 26856 203224]\n",
      " [    56    722]]\n"
     ]
    }
   ],
   "source": [
    "    \n",
    "# Training & Testing split\n",
    "df_train, df_test = train_test_split(df_2,\n",
    "                                                test_size=0.2,\n",
    "                                                random_state=50, \n",
    "                                                stratify=df_2['is_fraud'])\n",
    "\n",
    "# print(df_train.is_fraud.value_counts())\n",
    "# print(df_test.is_fraud.value_counts())\n",
    "\n",
    "# Dividing training data into target and predictors\n",
    "Y = df_train['is_fraud']\n",
    "X = df_train.drop('is_fraud', axis=1)\n",
    "\n",
    "# Defining the Stratified KFold object\n",
    "skfold = StratifiedKFold(n_splits=5, shuffle=True)\n",
    "\n",
    "model =LogisticRegression(solver='sag', n_jobs=-1, class_weight='balanced')\n",
    "\n",
    "fold = 1\n",
    "\n",
    "print(\"Model Training!!\")\n",
    "\n",
    "for train_index, validation_index in skfold.split(X, Y):\n",
    "    X_train, X_val = X.iloc[train_index], X.iloc[validation_index]\n",
    "    y_train, y_val = Y.iloc[train_index], Y.iloc[validation_index]\n",
    "    model.fit(X_train, y_train)\n",
    "    y_val_pred = model.predict(X_val)\n",
    "    print(f\"Fold {fold} --> Accuracy = {round(accuracy_score(y_val, y_val_pred),4)} : F1-Score = {round(f1_score(y_val, y_val_pred),4)} : \"Matthews Corr. Coeff. = {round(matthews_corrcoef(y_val, y_val_pred),2)}\")\n",
    "    fold+=1\n",
    "print(\"\\nTRAINING COMPLETE!!\")\n",
    "print(\"--------------------------------------------\")\n",
    "\n",
    "# Testing on unseen data\n",
    "y_test = df_test['is_fraud']\n",
    "X_test = df_test.drop('is_fraud', axis=1)\n",
    "\n",
    "print(\"Testing Logistic Regression on unseen data!!\")\n",
    "print(\"--------------------------------------------\")\n",
    "y_test_pred = model.predict(X_test)\n",
    "\n",
    "print(\"Accuracy                     - \", round(accuracy_score(y_test, y_test_pred),4))\n",
    "print(\"Precision                    - \", round(precision_score(y_test, y_test_pred),4))\n",
    "print(\"Recall                       - \", round(recall_score(y_test, y_test_pred),4)) \n",
    "print(\"F1-Score                     - \", round(f1_score(y_test, y_test_pred),4))\n",
    "print(\"Matthews Correlation Score   - \", round(matthews_corrcoef(y_true=y_test, y_pred=y_test_pred),4))\n",
    "\n",
    "from sklearn.metrics import confusion_matrix\n",
    "confusion = confusion_matrix(y_true=y_test, y_pred=y_test_pred)\n",
    "cm = confusion.astype(int)\n",
    "print(\"Confusion Matrix!!\")\n",
    "print(cm)"
   ]
  },
  {
   "attachments": {},
   "cell_type": "markdown",
   "metadata": {},
   "source": [
    "### **Random Forest**"
   ]
  },
  {
   "cell_type": "code",
   "execution_count": 66,
   "metadata": {},
   "outputs": [
    {
     "name": "stdout",
     "output_type": "stream",
     "text": [
      "Model Training!!\n",
      "Fold 1 --> Accuracy = 0.986 : F1-Score = 0.1356 : Matthews Corr. Coeff. = 0.16\n",
      "Fold 2 --> Accuracy = 0.986 : F1-Score = 0.1317 : Matthews Corr. Coeff. = 0.16\n",
      "Fold 3 --> Accuracy = 0.9862 : F1-Score = 0.1321 : Matthews Corr. Coeff. = 0.16\n",
      "Fold 4 --> Accuracy = 0.9858 : F1-Score = 0.1244 : Matthews Corr. Coeff. = 0.15\n",
      "Fold 5 --> Accuracy = 0.9864 : F1-Score = 0.1402 : Matthews Corr. Coeff. = 0.17\n",
      "\n",
      "TRAINING COMPLETE!!\n",
      "--------------------------------------------\n",
      "Testing Logistic Regression on unseen data!!\n",
      "--------------------------------------------\n",
      "Accuracy                     -  0.9864\n",
      "Precision                    -  0.0795\n",
      "Recall                       -  0.2879\n",
      "F1-Score                     -  0.1246\n",
      "Matthews Correlation Score   -  0.146\n",
      "Confusion Matrix!!\n",
      "[[227486   2594]\n",
      " [   554    224]]\n"
     ]
    }
   ],
   "source": [
    "# Training & Testing split\n",
    "df_train, df_test = train_test_split(df_2,\n",
    "                                                test_size=0.2,\n",
    "                                                random_state=50, \n",
    "                                                stratify=df_2['is_fraud'])\n",
    "\n",
    "# print(df_train.is_fraud.value_counts())\n",
    "# print(df_test.is_fraud.value_counts())\n",
    "\n",
    "# Dividing training data into target and predictors\n",
    "Y = df_train['is_fraud']\n",
    "X = df_train.drop('is_fraud', axis=1)\n",
    "\n",
    "# Defining the Stratified KFold object\n",
    "skfold = StratifiedKFold(n_splits=5, shuffle=True)\n",
    "\n",
    "model = RandomForestClassifier(n_jobs=-1, class_weight='balanced')\n",
    "\n",
    "fold = 1\n",
    "\n",
    "print(\"Model Training!!\")\n",
    "\n",
    "for train_index, validation_index in skfold.split(X, Y):\n",
    "    X_train, X_val = X.iloc[train_index], X.iloc[validation_index]\n",
    "    y_train, y_val = Y.iloc[train_index], Y.iloc[validation_index]\n",
    "    model.fit(X_train, y_train)\n",
    "    y_val_pred = model.predict(X_val)\n",
    "    print(f\"Fold {fold} --> Accuracy = {round(accuracy_score(y_val, y_val_pred),4)} : F1-Score = {round(f1_score(y_val, y_val_pred),4)} : \"Matthews Corr. Coeff. = {round(matthews_corrcoef(y_val, y_val_pred),2)}\")\n",
    "    fold+=1\n",
    "print(\"\\nTRAINING COMPLETE!!\")\n",
    "print(\"--------------------------------------------\")\n",
    "\n",
    "# Testing on unseen data\n",
    "y_test = df_test['is_fraud']\n",
    "X_test = df_test.drop('is_fraud', axis=1)\n",
    "\n",
    "print(\"Testing Random Forest Classifier on unseen data!!\")\n",
    "print(\"--------------------------------------------\")\n",
    "y_test_pred = model.predict(X_test)\n",
    "\n",
    "print(\"Accuracy                     - \", round(accuracy_score(y_test, y_test_pred),4))\n",
    "print(\"Precision                    - \", round(precision_score(y_test, y_test_pred),4))\n",
    "print(\"Recall                       - \", round(recall_score(y_test, y_test_pred),4)) \n",
    "print(\"F1-Score                     - \", round(f1_score(y_test, y_test_pred),4))\n",
    "print(\"Matthews Correlation Score   - \", round(matthews_corrcoef(y_true=y_test, y_pred=y_test_pred),4))\n",
    "\n",
    "from sklearn.metrics import confusion_matrix\n",
    "confusion = confusion_matrix(y_true=y_test, y_pred=y_test_pred)\n",
    "cm = confusion.astype(int)\n",
    "print(\"Confusion Matrix!!\")\n",
    "print(cm)\n"
   ]
  },
  {
   "attachments": {},
   "cell_type": "markdown",
   "metadata": {},
   "source": [
    "### **Support Vector Machine**"
   ]
  },
  {
   "cell_type": "code",
   "execution_count": 67,
   "metadata": {},
   "outputs": [],
   "source": []
  },
  {
   "cell_type": "code",
   "execution_count": 1,
   "metadata": {},
   "outputs": [],
   "source": [
    "# # Training & Testing split\n",
    "# df_train, df_test = train_test_split(df_2,\n",
    "#                                                 test_size=0.2,\n",
    "#                                                 random_state=50, \n",
    "#                                                 stratify=df_2['is_fraud'])\n",
    "\n",
    "# # print(df_train.is_fraud.value_counts())\n",
    "# # print(df_test.is_fraud.value_counts())\n",
    "\n",
    "# # # Dividing training data into target and predictors\n",
    "# # Y = df_train['is_fraud']\n",
    "# # X = df_train.drop('is_fraud', axis=1)\n",
    "\n",
    "# df_train_sample = df_train.sample(100000)\n",
    "# Y = df_train_sample['is_fraud']\n",
    "# X = df_train_sample.drop('is_fraud', axis=1)\n",
    "\n",
    "\n",
    "# # Defining the Stratified KFold object\n",
    "# skfold = StratifiedKFold(n_splits=5, shuffle=True)\n",
    "\n",
    "# model = SVC(C=0.05, class_weight='balanced', random_state=50)\n",
    "\n",
    "# fold = 1\n",
    "\n",
    "# print(\"Model Training!!\")\n",
    "\n",
    "# for train_index, validation_index in skfold.split(X, Y):\n",
    "#     X_train, X_val = X.iloc[train_index], X.iloc[validation_index]\n",
    "#     y_train, y_val = Y.iloc[train_index], Y.iloc[validation_index]\n",
    "#     model.fit(X_train, y_train)\n",
    "#     y_val_pred = model.predict(X_val)\n",
    "#     print(f\"Fold {fold} --> Accuracy = {round(accuracy_score(y_val, y_val_pred),4)} : F1-Score = {round(f1_score(y_val, y_val_pred),4)} : Matthews Corr. Coeff. = {round(matthews_corrcoef(y_val, y_val_pred),2)}\")\n",
    "#     fold+=1\n",
    "# print(\"\\nTRAINING COMPLETE!!\")\n",
    "# print(\"--------------------------------------------\")\n",
    "\n",
    "# # Testing on unseen data\n",
    "# y_test = df_test['is_fraud']\n",
    "# X_test = df_test.drop('is_fraud', axis=1)\n",
    "\n",
    "# print(\"Testing Support Vector Machine Classifier on unseen data!!\")\n",
    "# print(\"--------------------------------------------\")\n",
    "# y_test_pred = model.predict(X_test)\n",
    "\n",
    "# print(\"Accuracy                     - \", round(accuracy_score(y_test, y_test_pred),4))\n",
    "# print(\"Precision                    - \", round(precision_score(y_test, y_test_pred),4))\n",
    "# print(\"Recall                       - \", round(recall_score(y_test, y_test_pred),4)) \n",
    "# print(\"F1-Score                     - \", round(f1_score(y_test, y_test_pred),4))\n",
    "# print(\"Matthews Correlation Score   - \", round(matthews_corrcoef(y_true=y_test, y_pred=y_test_pred),4))\n",
    "\n",
    "# from sklearn.metrics import confusion_matrix\n",
    "# confusion = confusion_matrix(y_true=y_test, y_pred=y_test_pred)\n",
    "# cm = confusion.astype(int)\n",
    "# print(\"Confusion Matrix!!\")\n",
    "# print(cm)\n"
   ]
  },
  {
   "cell_type": "code",
   "execution_count": null,
   "metadata": {},
   "outputs": [],
   "source": []
  },
  {
   "cell_type": "code",
   "execution_count": null,
   "metadata": {},
   "outputs": [],
   "source": []
  },
  {
   "cell_type": "code",
   "execution_count": null,
   "metadata": {},
   "outputs": [],
   "source": []
  },
  {
   "cell_type": "code",
   "execution_count": null,
   "metadata": {},
   "outputs": [],
   "source": []
  },
  {
   "cell_type": "code",
   "execution_count": null,
   "metadata": {},
   "outputs": [],
   "source": []
  },
  {
   "cell_type": "code",
   "execution_count": null,
   "metadata": {},
   "outputs": [],
   "source": []
  }
 ],
 "metadata": {
  "kernelspec": {
   "display_name": "gpu",
   "language": "python",
   "name": "python3"
  },
  "language_info": {
   "codemirror_mode": {
    "name": "ipython",
    "version": 3
   },
   "file_extension": ".py",
   "mimetype": "text/x-python",
   "name": "python",
   "nbconvert_exporter": "python",
   "pygments_lexer": "ipython3",
   "version": "3.8.0"
  },
  "orig_nbformat": 4
 },
 "nbformat": 4,
 "nbformat_minor": 2
}
